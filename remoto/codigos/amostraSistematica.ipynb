{
 "cells": [
  {
   "cell_type": "code",
   "execution_count": 2,
   "metadata": {},
   "outputs": [],
   "source": [
    "import numpy as np\n",
    "import pandas as pd\n",
    "from math import ceil\n",
    "## importando ceil para arredondar para cima"
   ]
  },
  {
   "cell_type": "code",
   "execution_count": 6,
   "metadata": {},
   "outputs": [
    {
     "data": {
      "text/plain": [
       "np.int32(4)"
      ]
     },
     "execution_count": 6,
     "metadata": {},
     "output_type": "execute_result"
    }
   ],
   "source": [
    "populacao = 150\n",
    "amostra = 15\n",
    "k = ceil(populacao / amostra)\n",
    "\n",
    "## formula k = N/n onde N é a população e n é a amostra\n",
    "## resta agora gera o numero aleatoria entre 1 e k para comecar a amostragem\n",
    "\n",
    "r = np.random.randint(low = 1, high = k + 1, size = 1) \n",
    "r[0]"
   ]
  },
  {
   "cell_type": "code",
   "execution_count": null,
   "metadata": {},
   "outputs": [
    {
     "name": "stdout",
     "output_type": "stream",
     "text": [
      "[np.int32(4), np.int32(14), np.int32(24), np.int32(34), np.int32(44), np.int32(54), np.int32(64), np.int32(74), np.int32(84), np.int32(94), np.int32(104), np.int32(114), np.int32(124), np.int32(134), np.int32(144)]\n"
     ]
    }
   ],
   "source": [
    "acumulador = r[0]\n",
    "sorteados = [] ## nova array para armazenar os numeros sorteados\n",
    "\n",
    "for i in range(amostra): ## laco para sortear numero de 1 a k 15 vezes\n",
    "    sorteados.append(acumulador) ## adiciona ao array sorteados\n",
    "    acumulador += k ## soma o valor de k ao acumulador\n",
    "print(sorteados)\n",
    "## em tese, e sorteado um numero a cada k numeros"
   ]
  },
  {
   "cell_type": "code",
   "execution_count": null,
   "metadata": {},
   "outputs": [],
   "source": [
    "base  = pd.read_csv('../dados/iris.csv')\n",
    "base_final = base.loc[sorteados] ## seleciona as linhas correspondentes aos numeros sorteados\n",
    "print(base_final)\n"
   ]
  }
 ],
 "metadata": {
  "kernelspec": {
   "display_name": "Python 3",
   "language": "python",
   "name": "python3"
  },
  "language_info": {
   "codemirror_mode": {
    "name": "ipython",
    "version": 3
   },
   "file_extension": ".py",
   "mimetype": "text/x-python",
   "name": "python",
   "nbconvert_exporter": "python",
   "pygments_lexer": "ipython3",
   "version": "3.13.2"
  }
 },
 "nbformat": 4,
 "nbformat_minor": 2
}
