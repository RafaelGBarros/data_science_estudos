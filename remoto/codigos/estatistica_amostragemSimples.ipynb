{
 "cells": [
  {
   "cell_type": "code",
   "execution_count": 1,
   "metadata": {},
   "outputs": [],
   "source": [
    "import pandas as pd\n",
    "import numpy as np"
   ]
  },
  {
   "cell_type": "code",
   "execution_count": null,
   "metadata": {},
   "outputs": [],
   "source": [
    "df = pd.read_csv('../dados/iris.csv')\n",
    "df"
   ]
  },
  {
   "cell_type": "markdown",
   "metadata": {},
   "source": [
    "AMOSTRAGEM ALEATORIA"
   ]
  },
  {
   "cell_type": "code",
   "execution_count": null,
   "metadata": {},
   "outputs": [],
   "source": [
    "np.random.seed(2345) ## seed para reprodução dos resultados com mesmo seed para testagem\n",
    "selecao  = np.random.choice(a = [0, 1], size = 150, replace = True, p = [0.7, 0.3])\n",
    "## com random.choice criamos um vetor de 150 elementos com 70% de 0 e 30% de 1\n",
    "## replace = True indica que podemos repetir os valores\n",
    "## a ideia e usar este vetor e ligar ao dataframe para dividir em dois dataframes\n",
    "\n",
    "amostra = df.loc[selecao == 0] ## usei df.loc para localizar, no df original, as linhaas que correpondem a 0 na array selecao\n",
    "amostra"
   ]
  }
 ],
 "metadata": {
  "kernelspec": {
   "display_name": "Python 3",
   "language": "python",
   "name": "python3"
  },
  "language_info": {
   "codemirror_mode": {
    "name": "ipython",
    "version": 3
   },
   "file_extension": ".py",
   "mimetype": "text/x-python",
   "name": "python",
   "nbconvert_exporter": "python",
   "pygments_lexer": "ipython3",
   "version": "3.13.2"
  }
 },
 "nbformat": 4,
 "nbformat_minor": 2
}
